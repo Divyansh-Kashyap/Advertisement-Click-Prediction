{
 "cells": [
  {
   "cell_type": "code",
   "execution_count": 5,
   "id": "477a9b68-65d4-402f-8890-ac79b18185f3",
   "metadata": {},
   "outputs": [],
   "source": [
    "import pickle\n",
    "\n",
    "with open(\"model.pkl\", \"rb\") as file:\n",
    "    model = pickle.load(file)\n"
   ]
  },
  {
   "cell_type": "code",
   "execution_count": 7,
   "id": "319acb37-6a8b-4c08-9c6d-0c380fd8520b",
   "metadata": {},
   "outputs": [
    {
     "name": "stderr",
     "output_type": "stream",
     "text": [
      "C:\\Users\\Divyansh Kashyap\\AppData\\Roaming\\Python\\Python312\\site-packages\\gradio\\interface.py:415: UserWarning: The `allow_flagging` parameter in `Interface` is deprecated.Use `flagging_mode` instead.\n",
      "  warnings.warn(\n"
     ]
    },
    {
     "name": "stdout",
     "output_type": "stream",
     "text": [
      "* Running on public URL: https://b61338378ccc104ef0.gradio.live\n"
     ]
    },
    {
     "data": {
      "text/html": [
       "<div><iframe src=\"https://b61338378ccc104ef0.gradio.live\" width=\"100%\" height=\"500\" allow=\"autoplay; camera; microphone; clipboard-read; clipboard-write;\" frameborder=\"0\" allowfullscreen></iframe></div>"
      ],
      "text/plain": [
       "<IPython.core.display.HTML object>"
      ]
     },
     "metadata": {},
     "output_type": "display_data"
    },
    {
     "data": {
      "text/plain": []
     },
     "execution_count": 7,
     "metadata": {},
     "output_type": "execute_result"
    }
   ],
   "source": [
    "import pandas as pd\n",
    "import numpy as np\n",
    "import pickle\n",
    "from sklearn.preprocessing import LabelEncoder\n",
    "import gradio as gr\n",
    "\n",
    "try:\n",
    "    ad = pd.read_csv('click_advertisement.csv')\n",
    "except FileNotFoundError:\n",
    "    raise Exception(\"Dataset 'click_advertisement.csv' not found.\")\n",
    "\n",
    "try:\n",
    "    with open('model.pkl', 'rb') as file:\n",
    "        model = pickle.load(file)\n",
    "except FileNotFoundError:\n",
    "    raise Exception(\"Model 'model.pkl' not found.\")\n",
    "\n",
    "ad_topics = sorted(ad['Ad_Topic'].unique())\n",
    "\n",
    "def preprocess_input(time_spent, age, avg_income, internet_usage, ad_topic, male):\n",
    "    data = {\n",
    "        'VistID': [np.random.randint(1000187, 9999708)],\n",
    "        'Time_Spent': [time_spent],\n",
    "        'Age': [age],\n",
    "        'Avg_Income': [avg_income],\n",
    "        'Internet_Usage': [internet_usage],\n",
    "        'Ad_Topic': [ad_topic],\n",
    "        'Country_Name': ['United States'],  \n",
    "        'City_code': ['City_5'],         \n",
    "        'Male': [male],\n",
    "        'Time_Period': ['Morning'],        \n",
    "        'Weekday': ['Thursday'],          \n",
    "        'Month': ['January'],              \n",
    "        'Year': [2020]\n",
    "    }\n",
    "    df = pd.DataFrame(data)\n",
    "\n",
    "   \n",
    "    le = LabelEncoder()\n",
    "    df['Male'] = le.fit_transform(df['Male'])\n",
    "\n",
    "    # One-hot encode categorical variables\n",
    "    cat_cols = ['Ad_Topic', 'Country_Name', 'City_code', 'Time_Period', 'Weekday', 'Month']\n",
    "    df_encoded = pd.get_dummies(df, columns=cat_cols)\n",
    "\n",
    "    # Ensure all expected columns\n",
    "    expected_cols = model.feature_names_in_\n",
    "    for col in expected_cols:\n",
    "        if col not in df_encoded.columns:\n",
    "            df_encoded[col] = 0\n",
    "    df_encoded = df_encoded[expected_cols]\n",
    "\n",
    "    return df_encoded\n",
    "\n",
    "# Prediction function\n",
    "def predict_click(time_spent, age, avg_income, internet_usage, ad_topic, male):\n",
    "    try:\n",
    "        # Validate inputs\n",
    "        if not (32.6 <= time_spent <= 91.43 and 19 <= age <= 61 and 13996.5 <= avg_income <= 79484.8 and 104.78 <= internet_usage <= 269.96):\n",
    "            return \"Invalid input values. Check ranges: Time_Spent (32.6–91.43), Age (19–61), Avg_Income (13996.5–79484.8), Internet_Usage (104.78–269.96).\"\n",
    "        \n",
    "        # Preprocess\n",
    "        input_data = preprocess_input(time_spent, age, avg_income, internet_usage, ad_topic, male)\n",
    "        \n",
    "        # Predict\n",
    "        pred = model.predict(input_data)[0]\n",
    "        prob = model.predict_proba(input_data)[0]\n",
    "        result = \"Clicked\" if pred == 1 else \"Not Clicked\"\n",
    "        confidence = prob[pred] * 100\n",
    "        \n",
    "        return f\"Prediction: {result}\\nConfidence: {confidence:.2f}%\"\n",
    "    except Exception as e:\n",
    "        return f\"Error: {str(e)}\"\n",
    "\n",
    "# Gradio interface\n",
    "iface = gr.Interface(\n",
    "    fn=predict_click,\n",
    "    inputs=[\n",
    "        gr.Slider(minimum=32.6, maximum=91.43, value=66.85, label=\"Time Spent (minutes)\"),\n",
    "        gr.Slider(minimum=19, maximum=61, step=1, value=37, label=\"Age\"),\n",
    "        gr.Slider(minimum=13996.5, maximum=79484.8, value=55930.49, label=\"Average Income ($)\"),\n",
    "        gr.Slider(minimum=104.78, maximum=269.96, value=184.95, label=\"Internet Usage (minutes)\"),\n",
    "        gr.Dropdown(choices=ad_topics, value=ad_topics[0], label=\"Ad Topic\"),\n",
    "        gr.Dropdown(choices=[\"Yes\", \"No\"], value=\"No\", label=\"Male\")\n",
    "    ],\n",
    "    outputs=gr.Textbox(label=\"Prediction\"),\n",
    "    title=\"Ad Click Prediction\",\n",
    "    allow_flagging=\"never\"\n",
    ")\n",
    "\n",
    "# Launch\n",
    "iface.launch(inline=True, share=True, quiet=True)"
   ]
  },
  {
   "cell_type": "code",
   "execution_count": null,
   "id": "1e154a9e-2802-48da-ba9b-6b9974fd3764",
   "metadata": {},
   "outputs": [],
   "source": []
  }
 ],
 "metadata": {
  "kernelspec": {
   "display_name": "Python 3 (ipykernel)",
   "language": "python",
   "name": "python3"
  },
  "language_info": {
   "codemirror_mode": {
    "name": "ipython",
    "version": 3
   },
   "file_extension": ".py",
   "mimetype": "text/x-python",
   "name": "python",
   "nbconvert_exporter": "python",
   "pygments_lexer": "ipython3",
   "version": "3.12.4"
  }
 },
 "nbformat": 4,
 "nbformat_minor": 5
}
